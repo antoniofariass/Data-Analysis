{
 "cells": [
  {
   "cell_type": "markdown",
   "id": "improved-structure",
   "metadata": {},
   "source": [
    "# 1° \n"
   ]
  },
  {
   "cell_type": "markdown",
   "id": "celtic-convenience",
   "metadata": {},
   "source": [
    "#### Importando as bibliotecas pandas e numpy"
   ]
  },
  {
   "cell_type": "code",
   "execution_count": 2,
   "id": "hearing-panic",
   "metadata": {},
   "outputs": [],
   "source": [
    "import pandas as pd\n",
    "import numpy as np"
   ]
  },
  {
   "cell_type": "markdown",
   "id": "beautiful-compression",
   "metadata": {},
   "source": [
    "#### Lendo os arquivos que foram upados em meu github, utilizando o sep para colocar como padrao a divisao de linhas e colunas por ';' e o encoding para corrigir os erros presentes de acentuação, colocando latin_1 que possue acentuação da europa e america."
   ]
  },
  {
   "cell_type": "code",
   "execution_count": 3,
   "id": "ranging-application",
   "metadata": {},
   "outputs": [
    {
     "ename": "URLError",
     "evalue": "<urlopen error [Errno 11001] getaddrinfo failed>",
     "output_type": "error",
     "traceback": [
      "\u001b[1;31m---------------------------------------------------------------------------\u001b[0m",
      "\u001b[1;31mgaierror\u001b[0m                                  Traceback (most recent call last)",
      "\u001b[1;32mC:\\Anaconda\\lib\\urllib\\request.py\u001b[0m in \u001b[0;36mdo_open\u001b[1;34m(self, http_class, req, **http_conn_args)\u001b[0m\n\u001b[0;32m   1349\u001b[0m             \u001b[1;32mtry\u001b[0m\u001b[1;33m:\u001b[0m\u001b[1;33m\u001b[0m\u001b[1;33m\u001b[0m\u001b[0m\n\u001b[1;32m-> 1350\u001b[1;33m                 h.request(req.get_method(), req.selector, req.data, headers,\n\u001b[0m\u001b[0;32m   1351\u001b[0m                           encode_chunked=req.has_header('Transfer-encoding'))\n",
      "\u001b[1;32mC:\\Anaconda\\lib\\http\\client.py\u001b[0m in \u001b[0;36mrequest\u001b[1;34m(self, method, url, body, headers, encode_chunked)\u001b[0m\n\u001b[0;32m   1254\u001b[0m         \u001b[1;34m\"\"\"Send a complete request to the server.\"\"\"\u001b[0m\u001b[1;33m\u001b[0m\u001b[1;33m\u001b[0m\u001b[0m\n\u001b[1;32m-> 1255\u001b[1;33m         \u001b[0mself\u001b[0m\u001b[1;33m.\u001b[0m\u001b[0m_send_request\u001b[0m\u001b[1;33m(\u001b[0m\u001b[0mmethod\u001b[0m\u001b[1;33m,\u001b[0m \u001b[0murl\u001b[0m\u001b[1;33m,\u001b[0m \u001b[0mbody\u001b[0m\u001b[1;33m,\u001b[0m \u001b[0mheaders\u001b[0m\u001b[1;33m,\u001b[0m \u001b[0mencode_chunked\u001b[0m\u001b[1;33m)\u001b[0m\u001b[1;33m\u001b[0m\u001b[1;33m\u001b[0m\u001b[0m\n\u001b[0m\u001b[0;32m   1256\u001b[0m \u001b[1;33m\u001b[0m\u001b[0m\n",
      "\u001b[1;32mC:\\Anaconda\\lib\\http\\client.py\u001b[0m in \u001b[0;36m_send_request\u001b[1;34m(self, method, url, body, headers, encode_chunked)\u001b[0m\n\u001b[0;32m   1300\u001b[0m             \u001b[0mbody\u001b[0m \u001b[1;33m=\u001b[0m \u001b[0m_encode\u001b[0m\u001b[1;33m(\u001b[0m\u001b[0mbody\u001b[0m\u001b[1;33m,\u001b[0m \u001b[1;34m'body'\u001b[0m\u001b[1;33m)\u001b[0m\u001b[1;33m\u001b[0m\u001b[1;33m\u001b[0m\u001b[0m\n\u001b[1;32m-> 1301\u001b[1;33m         \u001b[0mself\u001b[0m\u001b[1;33m.\u001b[0m\u001b[0mendheaders\u001b[0m\u001b[1;33m(\u001b[0m\u001b[0mbody\u001b[0m\u001b[1;33m,\u001b[0m \u001b[0mencode_chunked\u001b[0m\u001b[1;33m=\u001b[0m\u001b[0mencode_chunked\u001b[0m\u001b[1;33m)\u001b[0m\u001b[1;33m\u001b[0m\u001b[1;33m\u001b[0m\u001b[0m\n\u001b[0m\u001b[0;32m   1302\u001b[0m \u001b[1;33m\u001b[0m\u001b[0m\n",
      "\u001b[1;32mC:\\Anaconda\\lib\\http\\client.py\u001b[0m in \u001b[0;36mendheaders\u001b[1;34m(self, message_body, encode_chunked)\u001b[0m\n\u001b[0;32m   1249\u001b[0m             \u001b[1;32mraise\u001b[0m \u001b[0mCannotSendHeader\u001b[0m\u001b[1;33m(\u001b[0m\u001b[1;33m)\u001b[0m\u001b[1;33m\u001b[0m\u001b[1;33m\u001b[0m\u001b[0m\n\u001b[1;32m-> 1250\u001b[1;33m         \u001b[0mself\u001b[0m\u001b[1;33m.\u001b[0m\u001b[0m_send_output\u001b[0m\u001b[1;33m(\u001b[0m\u001b[0mmessage_body\u001b[0m\u001b[1;33m,\u001b[0m \u001b[0mencode_chunked\u001b[0m\u001b[1;33m=\u001b[0m\u001b[0mencode_chunked\u001b[0m\u001b[1;33m)\u001b[0m\u001b[1;33m\u001b[0m\u001b[1;33m\u001b[0m\u001b[0m\n\u001b[0m\u001b[0;32m   1251\u001b[0m \u001b[1;33m\u001b[0m\u001b[0m\n",
      "\u001b[1;32mC:\\Anaconda\\lib\\http\\client.py\u001b[0m in \u001b[0;36m_send_output\u001b[1;34m(self, message_body, encode_chunked)\u001b[0m\n\u001b[0;32m   1009\u001b[0m         \u001b[1;32mdel\u001b[0m \u001b[0mself\u001b[0m\u001b[1;33m.\u001b[0m\u001b[0m_buffer\u001b[0m\u001b[1;33m[\u001b[0m\u001b[1;33m:\u001b[0m\u001b[1;33m]\u001b[0m\u001b[1;33m\u001b[0m\u001b[1;33m\u001b[0m\u001b[0m\n\u001b[1;32m-> 1010\u001b[1;33m         \u001b[0mself\u001b[0m\u001b[1;33m.\u001b[0m\u001b[0msend\u001b[0m\u001b[1;33m(\u001b[0m\u001b[0mmsg\u001b[0m\u001b[1;33m)\u001b[0m\u001b[1;33m\u001b[0m\u001b[1;33m\u001b[0m\u001b[0m\n\u001b[0m\u001b[0;32m   1011\u001b[0m \u001b[1;33m\u001b[0m\u001b[0m\n",
      "\u001b[1;32mC:\\Anaconda\\lib\\http\\client.py\u001b[0m in \u001b[0;36msend\u001b[1;34m(self, data)\u001b[0m\n\u001b[0;32m    949\u001b[0m             \u001b[1;32mif\u001b[0m \u001b[0mself\u001b[0m\u001b[1;33m.\u001b[0m\u001b[0mauto_open\u001b[0m\u001b[1;33m:\u001b[0m\u001b[1;33m\u001b[0m\u001b[1;33m\u001b[0m\u001b[0m\n\u001b[1;32m--> 950\u001b[1;33m                 \u001b[0mself\u001b[0m\u001b[1;33m.\u001b[0m\u001b[0mconnect\u001b[0m\u001b[1;33m(\u001b[0m\u001b[1;33m)\u001b[0m\u001b[1;33m\u001b[0m\u001b[1;33m\u001b[0m\u001b[0m\n\u001b[0m\u001b[0;32m    951\u001b[0m             \u001b[1;32melse\u001b[0m\u001b[1;33m:\u001b[0m\u001b[1;33m\u001b[0m\u001b[1;33m\u001b[0m\u001b[0m\n",
      "\u001b[1;32mC:\\Anaconda\\lib\\http\\client.py\u001b[0m in \u001b[0;36mconnect\u001b[1;34m(self)\u001b[0m\n\u001b[0;32m   1416\u001b[0m \u001b[1;33m\u001b[0m\u001b[0m\n\u001b[1;32m-> 1417\u001b[1;33m             \u001b[0msuper\u001b[0m\u001b[1;33m(\u001b[0m\u001b[1;33m)\u001b[0m\u001b[1;33m.\u001b[0m\u001b[0mconnect\u001b[0m\u001b[1;33m(\u001b[0m\u001b[1;33m)\u001b[0m\u001b[1;33m\u001b[0m\u001b[1;33m\u001b[0m\u001b[0m\n\u001b[0m\u001b[0;32m   1418\u001b[0m \u001b[1;33m\u001b[0m\u001b[0m\n",
      "\u001b[1;32mC:\\Anaconda\\lib\\http\\client.py\u001b[0m in \u001b[0;36mconnect\u001b[1;34m(self)\u001b[0m\n\u001b[0;32m    920\u001b[0m         \u001b[1;34m\"\"\"Connect to the host and port specified in __init__.\"\"\"\u001b[0m\u001b[1;33m\u001b[0m\u001b[1;33m\u001b[0m\u001b[0m\n\u001b[1;32m--> 921\u001b[1;33m         self.sock = self._create_connection(\n\u001b[0m\u001b[0;32m    922\u001b[0m             (self.host,self.port), self.timeout, self.source_address)\n",
      "\u001b[1;32mC:\\Anaconda\\lib\\socket.py\u001b[0m in \u001b[0;36mcreate_connection\u001b[1;34m(address, timeout, source_address)\u001b[0m\n\u001b[0;32m    786\u001b[0m     \u001b[0merr\u001b[0m \u001b[1;33m=\u001b[0m \u001b[1;32mNone\u001b[0m\u001b[1;33m\u001b[0m\u001b[1;33m\u001b[0m\u001b[0m\n\u001b[1;32m--> 787\u001b[1;33m     \u001b[1;32mfor\u001b[0m \u001b[0mres\u001b[0m \u001b[1;32min\u001b[0m \u001b[0mgetaddrinfo\u001b[0m\u001b[1;33m(\u001b[0m\u001b[0mhost\u001b[0m\u001b[1;33m,\u001b[0m \u001b[0mport\u001b[0m\u001b[1;33m,\u001b[0m \u001b[1;36m0\u001b[0m\u001b[1;33m,\u001b[0m \u001b[0mSOCK_STREAM\u001b[0m\u001b[1;33m)\u001b[0m\u001b[1;33m:\u001b[0m\u001b[1;33m\u001b[0m\u001b[1;33m\u001b[0m\u001b[0m\n\u001b[0m\u001b[0;32m    788\u001b[0m         \u001b[0maf\u001b[0m\u001b[1;33m,\u001b[0m \u001b[0msocktype\u001b[0m\u001b[1;33m,\u001b[0m \u001b[0mproto\u001b[0m\u001b[1;33m,\u001b[0m \u001b[0mcanonname\u001b[0m\u001b[1;33m,\u001b[0m \u001b[0msa\u001b[0m \u001b[1;33m=\u001b[0m \u001b[0mres\u001b[0m\u001b[1;33m\u001b[0m\u001b[1;33m\u001b[0m\u001b[0m\n",
      "\u001b[1;32mC:\\Anaconda\\lib\\socket.py\u001b[0m in \u001b[0;36mgetaddrinfo\u001b[1;34m(host, port, family, type, proto, flags)\u001b[0m\n\u001b[0;32m    917\u001b[0m     \u001b[0maddrlist\u001b[0m \u001b[1;33m=\u001b[0m \u001b[1;33m[\u001b[0m\u001b[1;33m]\u001b[0m\u001b[1;33m\u001b[0m\u001b[1;33m\u001b[0m\u001b[0m\n\u001b[1;32m--> 918\u001b[1;33m     \u001b[1;32mfor\u001b[0m \u001b[0mres\u001b[0m \u001b[1;32min\u001b[0m \u001b[0m_socket\u001b[0m\u001b[1;33m.\u001b[0m\u001b[0mgetaddrinfo\u001b[0m\u001b[1;33m(\u001b[0m\u001b[0mhost\u001b[0m\u001b[1;33m,\u001b[0m \u001b[0mport\u001b[0m\u001b[1;33m,\u001b[0m \u001b[0mfamily\u001b[0m\u001b[1;33m,\u001b[0m \u001b[0mtype\u001b[0m\u001b[1;33m,\u001b[0m \u001b[0mproto\u001b[0m\u001b[1;33m,\u001b[0m \u001b[0mflags\u001b[0m\u001b[1;33m)\u001b[0m\u001b[1;33m:\u001b[0m\u001b[1;33m\u001b[0m\u001b[1;33m\u001b[0m\u001b[0m\n\u001b[0m\u001b[0;32m    919\u001b[0m         \u001b[0maf\u001b[0m\u001b[1;33m,\u001b[0m \u001b[0msocktype\u001b[0m\u001b[1;33m,\u001b[0m \u001b[0mproto\u001b[0m\u001b[1;33m,\u001b[0m \u001b[0mcanonname\u001b[0m\u001b[1;33m,\u001b[0m \u001b[0msa\u001b[0m \u001b[1;33m=\u001b[0m \u001b[0mres\u001b[0m\u001b[1;33m\u001b[0m\u001b[1;33m\u001b[0m\u001b[0m\n",
      "\u001b[1;31mgaierror\u001b[0m: [Errno 11001] getaddrinfo failed",
      "\nDuring handling of the above exception, another exception occurred:\n",
      "\u001b[1;31mURLError\u001b[0m                                  Traceback (most recent call last)",
      "\u001b[1;32m<ipython-input-3-413bbeb00256>\u001b[0m in \u001b[0;36m<module>\u001b[1;34m\u001b[0m\n\u001b[1;32m----> 1\u001b[1;33m \u001b[0mdata2020\u001b[0m \u001b[1;33m=\u001b[0m \u001b[0mpd\u001b[0m\u001b[1;33m.\u001b[0m\u001b[0mread_csv\u001b[0m\u001b[1;33m(\u001b[0m\u001b[1;34m'https://raw.githubusercontent.com/antoniofariass/Statistic/main/Projeto/datatran2020.csv'\u001b[0m\u001b[1;33m,\u001b[0m \u001b[0msep\u001b[0m\u001b[1;33m=\u001b[0m\u001b[1;34m';'\u001b[0m\u001b[1;33m,\u001b[0m \u001b[0mencoding\u001b[0m \u001b[1;33m=\u001b[0m \u001b[1;34m'latin_1'\u001b[0m\u001b[1;33m)\u001b[0m\u001b[1;33m\u001b[0m\u001b[1;33m\u001b[0m\u001b[0m\n\u001b[0m\u001b[0;32m      2\u001b[0m \u001b[0mdata2019\u001b[0m \u001b[1;33m=\u001b[0m \u001b[0mpd\u001b[0m\u001b[1;33m.\u001b[0m\u001b[0mread_csv\u001b[0m\u001b[1;33m(\u001b[0m\u001b[1;34m'https://raw.githubusercontent.com/antoniofariass/Statistic/main/Projeto/datatran2019.csv'\u001b[0m\u001b[1;33m,\u001b[0m \u001b[0msep\u001b[0m\u001b[1;33m=\u001b[0m\u001b[1;34m';'\u001b[0m\u001b[1;33m,\u001b[0m \u001b[0mencoding\u001b[0m \u001b[1;33m=\u001b[0m \u001b[1;34m'latin_1'\u001b[0m\u001b[1;33m)\u001b[0m\u001b[1;33m\u001b[0m\u001b[1;33m\u001b[0m\u001b[0m\n",
      "\u001b[1;32mC:\\Anaconda\\lib\\site-packages\\pandas\\io\\parsers.py\u001b[0m in \u001b[0;36mread_csv\u001b[1;34m(filepath_or_buffer, sep, delimiter, header, names, index_col, usecols, squeeze, prefix, mangle_dupe_cols, dtype, engine, converters, true_values, false_values, skipinitialspace, skiprows, skipfooter, nrows, na_values, keep_default_na, na_filter, verbose, skip_blank_lines, parse_dates, infer_datetime_format, keep_date_col, date_parser, dayfirst, cache_dates, iterator, chunksize, compression, thousands, decimal, lineterminator, quotechar, quoting, doublequote, escapechar, comment, encoding, dialect, error_bad_lines, warn_bad_lines, delim_whitespace, low_memory, memory_map, float_precision, storage_options)\u001b[0m\n\u001b[0;32m    608\u001b[0m     \u001b[0mkwds\u001b[0m\u001b[1;33m.\u001b[0m\u001b[0mupdate\u001b[0m\u001b[1;33m(\u001b[0m\u001b[0mkwds_defaults\u001b[0m\u001b[1;33m)\u001b[0m\u001b[1;33m\u001b[0m\u001b[1;33m\u001b[0m\u001b[0m\n\u001b[0;32m    609\u001b[0m \u001b[1;33m\u001b[0m\u001b[0m\n\u001b[1;32m--> 610\u001b[1;33m     \u001b[1;32mreturn\u001b[0m \u001b[0m_read\u001b[0m\u001b[1;33m(\u001b[0m\u001b[0mfilepath_or_buffer\u001b[0m\u001b[1;33m,\u001b[0m \u001b[0mkwds\u001b[0m\u001b[1;33m)\u001b[0m\u001b[1;33m\u001b[0m\u001b[1;33m\u001b[0m\u001b[0m\n\u001b[0m\u001b[0;32m    611\u001b[0m \u001b[1;33m\u001b[0m\u001b[0m\n\u001b[0;32m    612\u001b[0m \u001b[1;33m\u001b[0m\u001b[0m\n",
      "\u001b[1;32mC:\\Anaconda\\lib\\site-packages\\pandas\\io\\parsers.py\u001b[0m in \u001b[0;36m_read\u001b[1;34m(filepath_or_buffer, kwds)\u001b[0m\n\u001b[0;32m    460\u001b[0m \u001b[1;33m\u001b[0m\u001b[0m\n\u001b[0;32m    461\u001b[0m     \u001b[1;31m# Create the parser.\u001b[0m\u001b[1;33m\u001b[0m\u001b[1;33m\u001b[0m\u001b[1;33m\u001b[0m\u001b[0m\n\u001b[1;32m--> 462\u001b[1;33m     \u001b[0mparser\u001b[0m \u001b[1;33m=\u001b[0m \u001b[0mTextFileReader\u001b[0m\u001b[1;33m(\u001b[0m\u001b[0mfilepath_or_buffer\u001b[0m\u001b[1;33m,\u001b[0m \u001b[1;33m**\u001b[0m\u001b[0mkwds\u001b[0m\u001b[1;33m)\u001b[0m\u001b[1;33m\u001b[0m\u001b[1;33m\u001b[0m\u001b[0m\n\u001b[0m\u001b[0;32m    463\u001b[0m \u001b[1;33m\u001b[0m\u001b[0m\n\u001b[0;32m    464\u001b[0m     \u001b[1;32mif\u001b[0m \u001b[0mchunksize\u001b[0m \u001b[1;32mor\u001b[0m \u001b[0miterator\u001b[0m\u001b[1;33m:\u001b[0m\u001b[1;33m\u001b[0m\u001b[1;33m\u001b[0m\u001b[0m\n",
      "\u001b[1;32mC:\\Anaconda\\lib\\site-packages\\pandas\\io\\parsers.py\u001b[0m in \u001b[0;36m__init__\u001b[1;34m(self, f, engine, **kwds)\u001b[0m\n\u001b[0;32m    817\u001b[0m             \u001b[0mself\u001b[0m\u001b[1;33m.\u001b[0m\u001b[0moptions\u001b[0m\u001b[1;33m[\u001b[0m\u001b[1;34m\"has_index_names\"\u001b[0m\u001b[1;33m]\u001b[0m \u001b[1;33m=\u001b[0m \u001b[0mkwds\u001b[0m\u001b[1;33m[\u001b[0m\u001b[1;34m\"has_index_names\"\u001b[0m\u001b[1;33m]\u001b[0m\u001b[1;33m\u001b[0m\u001b[1;33m\u001b[0m\u001b[0m\n\u001b[0;32m    818\u001b[0m \u001b[1;33m\u001b[0m\u001b[0m\n\u001b[1;32m--> 819\u001b[1;33m         \u001b[0mself\u001b[0m\u001b[1;33m.\u001b[0m\u001b[0m_engine\u001b[0m \u001b[1;33m=\u001b[0m \u001b[0mself\u001b[0m\u001b[1;33m.\u001b[0m\u001b[0m_make_engine\u001b[0m\u001b[1;33m(\u001b[0m\u001b[0mself\u001b[0m\u001b[1;33m.\u001b[0m\u001b[0mengine\u001b[0m\u001b[1;33m)\u001b[0m\u001b[1;33m\u001b[0m\u001b[1;33m\u001b[0m\u001b[0m\n\u001b[0m\u001b[0;32m    820\u001b[0m \u001b[1;33m\u001b[0m\u001b[0m\n\u001b[0;32m    821\u001b[0m     \u001b[1;32mdef\u001b[0m \u001b[0mclose\u001b[0m\u001b[1;33m(\u001b[0m\u001b[0mself\u001b[0m\u001b[1;33m)\u001b[0m\u001b[1;33m:\u001b[0m\u001b[1;33m\u001b[0m\u001b[1;33m\u001b[0m\u001b[0m\n",
      "\u001b[1;32mC:\\Anaconda\\lib\\site-packages\\pandas\\io\\parsers.py\u001b[0m in \u001b[0;36m_make_engine\u001b[1;34m(self, engine)\u001b[0m\n\u001b[0;32m   1048\u001b[0m             )\n\u001b[0;32m   1049\u001b[0m         \u001b[1;31m# error: Too many arguments for \"ParserBase\"\u001b[0m\u001b[1;33m\u001b[0m\u001b[1;33m\u001b[0m\u001b[1;33m\u001b[0m\u001b[0m\n\u001b[1;32m-> 1050\u001b[1;33m         \u001b[1;32mreturn\u001b[0m \u001b[0mmapping\u001b[0m\u001b[1;33m[\u001b[0m\u001b[0mengine\u001b[0m\u001b[1;33m]\u001b[0m\u001b[1;33m(\u001b[0m\u001b[0mself\u001b[0m\u001b[1;33m.\u001b[0m\u001b[0mf\u001b[0m\u001b[1;33m,\u001b[0m \u001b[1;33m**\u001b[0m\u001b[0mself\u001b[0m\u001b[1;33m.\u001b[0m\u001b[0moptions\u001b[0m\u001b[1;33m)\u001b[0m  \u001b[1;31m# type: ignore[call-arg]\u001b[0m\u001b[1;33m\u001b[0m\u001b[1;33m\u001b[0m\u001b[0m\n\u001b[0m\u001b[0;32m   1051\u001b[0m \u001b[1;33m\u001b[0m\u001b[0m\n\u001b[0;32m   1052\u001b[0m     \u001b[1;32mdef\u001b[0m \u001b[0m_failover_to_python\u001b[0m\u001b[1;33m(\u001b[0m\u001b[0mself\u001b[0m\u001b[1;33m)\u001b[0m\u001b[1;33m:\u001b[0m\u001b[1;33m\u001b[0m\u001b[1;33m\u001b[0m\u001b[0m\n",
      "\u001b[1;32mC:\\Anaconda\\lib\\site-packages\\pandas\\io\\parsers.py\u001b[0m in \u001b[0;36m__init__\u001b[1;34m(self, src, **kwds)\u001b[0m\n\u001b[0;32m   1865\u001b[0m \u001b[1;33m\u001b[0m\u001b[0m\n\u001b[0;32m   1866\u001b[0m         \u001b[1;31m# open handles\u001b[0m\u001b[1;33m\u001b[0m\u001b[1;33m\u001b[0m\u001b[1;33m\u001b[0m\u001b[0m\n\u001b[1;32m-> 1867\u001b[1;33m         \u001b[0mself\u001b[0m\u001b[1;33m.\u001b[0m\u001b[0m_open_handles\u001b[0m\u001b[1;33m(\u001b[0m\u001b[0msrc\u001b[0m\u001b[1;33m,\u001b[0m \u001b[0mkwds\u001b[0m\u001b[1;33m)\u001b[0m\u001b[1;33m\u001b[0m\u001b[1;33m\u001b[0m\u001b[0m\n\u001b[0m\u001b[0;32m   1868\u001b[0m         \u001b[1;32massert\u001b[0m \u001b[0mself\u001b[0m\u001b[1;33m.\u001b[0m\u001b[0mhandles\u001b[0m \u001b[1;32mis\u001b[0m \u001b[1;32mnot\u001b[0m \u001b[1;32mNone\u001b[0m\u001b[1;33m\u001b[0m\u001b[1;33m\u001b[0m\u001b[0m\n\u001b[0;32m   1869\u001b[0m         \u001b[1;32mfor\u001b[0m \u001b[0mkey\u001b[0m \u001b[1;32min\u001b[0m \u001b[1;33m(\u001b[0m\u001b[1;34m\"storage_options\"\u001b[0m\u001b[1;33m,\u001b[0m \u001b[1;34m\"encoding\"\u001b[0m\u001b[1;33m,\u001b[0m \u001b[1;34m\"memory_map\"\u001b[0m\u001b[1;33m,\u001b[0m \u001b[1;34m\"compression\"\u001b[0m\u001b[1;33m)\u001b[0m\u001b[1;33m:\u001b[0m\u001b[1;33m\u001b[0m\u001b[1;33m\u001b[0m\u001b[0m\n",
      "\u001b[1;32mC:\\Anaconda\\lib\\site-packages\\pandas\\io\\parsers.py\u001b[0m in \u001b[0;36m_open_handles\u001b[1;34m(self, src, kwds)\u001b[0m\n\u001b[0;32m   1360\u001b[0m         \u001b[0mLet\u001b[0m \u001b[0mthe\u001b[0m \u001b[0mreaders\u001b[0m \u001b[0mopen\u001b[0m \u001b[0mIOHanldes\u001b[0m \u001b[0mafter\u001b[0m \u001b[0mthey\u001b[0m \u001b[0mare\u001b[0m \u001b[0mdone\u001b[0m \u001b[1;32mwith\u001b[0m \u001b[0mtheir\u001b[0m \u001b[0mpotential\u001b[0m \u001b[0mraises\u001b[0m\u001b[1;33m.\u001b[0m\u001b[1;33m\u001b[0m\u001b[1;33m\u001b[0m\u001b[0m\n\u001b[0;32m   1361\u001b[0m         \"\"\"\n\u001b[1;32m-> 1362\u001b[1;33m         self.handles = get_handle(\n\u001b[0m\u001b[0;32m   1363\u001b[0m             \u001b[0msrc\u001b[0m\u001b[1;33m,\u001b[0m\u001b[1;33m\u001b[0m\u001b[1;33m\u001b[0m\u001b[0m\n\u001b[0;32m   1364\u001b[0m             \u001b[1;34m\"r\"\u001b[0m\u001b[1;33m,\u001b[0m\u001b[1;33m\u001b[0m\u001b[1;33m\u001b[0m\u001b[0m\n",
      "\u001b[1;32mC:\\Anaconda\\lib\\site-packages\\pandas\\io\\common.py\u001b[0m in \u001b[0;36mget_handle\u001b[1;34m(path_or_buf, mode, encoding, compression, memory_map, is_text, errors, storage_options)\u001b[0m\n\u001b[0;32m    556\u001b[0m \u001b[1;33m\u001b[0m\u001b[0m\n\u001b[0;32m    557\u001b[0m     \u001b[1;31m# open URLs\u001b[0m\u001b[1;33m\u001b[0m\u001b[1;33m\u001b[0m\u001b[1;33m\u001b[0m\u001b[0m\n\u001b[1;32m--> 558\u001b[1;33m     ioargs = _get_filepath_or_buffer(\n\u001b[0m\u001b[0;32m    559\u001b[0m         \u001b[0mpath_or_buf\u001b[0m\u001b[1;33m,\u001b[0m\u001b[1;33m\u001b[0m\u001b[1;33m\u001b[0m\u001b[0m\n\u001b[0;32m    560\u001b[0m         \u001b[0mencoding\u001b[0m\u001b[1;33m=\u001b[0m\u001b[0mencoding\u001b[0m\u001b[1;33m,\u001b[0m\u001b[1;33m\u001b[0m\u001b[1;33m\u001b[0m\u001b[0m\n",
      "\u001b[1;32mC:\\Anaconda\\lib\\site-packages\\pandas\\io\\common.py\u001b[0m in \u001b[0;36m_get_filepath_or_buffer\u001b[1;34m(filepath_or_buffer, encoding, compression, mode, storage_options)\u001b[0m\n\u001b[0;32m    287\u001b[0m                 \u001b[1;34m\"storage_options passed with file object or non-fsspec file path\"\u001b[0m\u001b[1;33m\u001b[0m\u001b[1;33m\u001b[0m\u001b[0m\n\u001b[0;32m    288\u001b[0m             )\n\u001b[1;32m--> 289\u001b[1;33m         \u001b[0mreq\u001b[0m \u001b[1;33m=\u001b[0m \u001b[0murlopen\u001b[0m\u001b[1;33m(\u001b[0m\u001b[0mfilepath_or_buffer\u001b[0m\u001b[1;33m)\u001b[0m\u001b[1;33m\u001b[0m\u001b[1;33m\u001b[0m\u001b[0m\n\u001b[0m\u001b[0;32m    290\u001b[0m         \u001b[0mcontent_encoding\u001b[0m \u001b[1;33m=\u001b[0m \u001b[0mreq\u001b[0m\u001b[1;33m.\u001b[0m\u001b[0mheaders\u001b[0m\u001b[1;33m.\u001b[0m\u001b[0mget\u001b[0m\u001b[1;33m(\u001b[0m\u001b[1;34m\"Content-Encoding\"\u001b[0m\u001b[1;33m,\u001b[0m \u001b[1;32mNone\u001b[0m\u001b[1;33m)\u001b[0m\u001b[1;33m\u001b[0m\u001b[1;33m\u001b[0m\u001b[0m\n\u001b[0;32m    291\u001b[0m         \u001b[1;32mif\u001b[0m \u001b[0mcontent_encoding\u001b[0m \u001b[1;33m==\u001b[0m \u001b[1;34m\"gzip\"\u001b[0m\u001b[1;33m:\u001b[0m\u001b[1;33m\u001b[0m\u001b[1;33m\u001b[0m\u001b[0m\n",
      "\u001b[1;32mC:\\Anaconda\\lib\\site-packages\\pandas\\io\\common.py\u001b[0m in \u001b[0;36murlopen\u001b[1;34m(*args, **kwargs)\u001b[0m\n\u001b[0;32m    193\u001b[0m     \u001b[1;32mimport\u001b[0m \u001b[0murllib\u001b[0m\u001b[1;33m.\u001b[0m\u001b[0mrequest\u001b[0m\u001b[1;33m\u001b[0m\u001b[1;33m\u001b[0m\u001b[0m\n\u001b[0;32m    194\u001b[0m \u001b[1;33m\u001b[0m\u001b[0m\n\u001b[1;32m--> 195\u001b[1;33m     \u001b[1;32mreturn\u001b[0m \u001b[0murllib\u001b[0m\u001b[1;33m.\u001b[0m\u001b[0mrequest\u001b[0m\u001b[1;33m.\u001b[0m\u001b[0murlopen\u001b[0m\u001b[1;33m(\u001b[0m\u001b[1;33m*\u001b[0m\u001b[0margs\u001b[0m\u001b[1;33m,\u001b[0m \u001b[1;33m**\u001b[0m\u001b[0mkwargs\u001b[0m\u001b[1;33m)\u001b[0m\u001b[1;33m\u001b[0m\u001b[1;33m\u001b[0m\u001b[0m\n\u001b[0m\u001b[0;32m    196\u001b[0m \u001b[1;33m\u001b[0m\u001b[0m\n\u001b[0;32m    197\u001b[0m \u001b[1;33m\u001b[0m\u001b[0m\n",
      "\u001b[1;32mC:\\Anaconda\\lib\\urllib\\request.py\u001b[0m in \u001b[0;36murlopen\u001b[1;34m(url, data, timeout, cafile, capath, cadefault, context)\u001b[0m\n\u001b[0;32m    220\u001b[0m     \u001b[1;32melse\u001b[0m\u001b[1;33m:\u001b[0m\u001b[1;33m\u001b[0m\u001b[1;33m\u001b[0m\u001b[0m\n\u001b[0;32m    221\u001b[0m         \u001b[0mopener\u001b[0m \u001b[1;33m=\u001b[0m \u001b[0m_opener\u001b[0m\u001b[1;33m\u001b[0m\u001b[1;33m\u001b[0m\u001b[0m\n\u001b[1;32m--> 222\u001b[1;33m     \u001b[1;32mreturn\u001b[0m \u001b[0mopener\u001b[0m\u001b[1;33m.\u001b[0m\u001b[0mopen\u001b[0m\u001b[1;33m(\u001b[0m\u001b[0murl\u001b[0m\u001b[1;33m,\u001b[0m \u001b[0mdata\u001b[0m\u001b[1;33m,\u001b[0m \u001b[0mtimeout\u001b[0m\u001b[1;33m)\u001b[0m\u001b[1;33m\u001b[0m\u001b[1;33m\u001b[0m\u001b[0m\n\u001b[0m\u001b[0;32m    223\u001b[0m \u001b[1;33m\u001b[0m\u001b[0m\n\u001b[0;32m    224\u001b[0m \u001b[1;32mdef\u001b[0m \u001b[0minstall_opener\u001b[0m\u001b[1;33m(\u001b[0m\u001b[0mopener\u001b[0m\u001b[1;33m)\u001b[0m\u001b[1;33m:\u001b[0m\u001b[1;33m\u001b[0m\u001b[1;33m\u001b[0m\u001b[0m\n",
      "\u001b[1;32mC:\\Anaconda\\lib\\urllib\\request.py\u001b[0m in \u001b[0;36mopen\u001b[1;34m(self, fullurl, data, timeout)\u001b[0m\n\u001b[0;32m    523\u001b[0m \u001b[1;33m\u001b[0m\u001b[0m\n\u001b[0;32m    524\u001b[0m         \u001b[0msys\u001b[0m\u001b[1;33m.\u001b[0m\u001b[0maudit\u001b[0m\u001b[1;33m(\u001b[0m\u001b[1;34m'urllib.Request'\u001b[0m\u001b[1;33m,\u001b[0m \u001b[0mreq\u001b[0m\u001b[1;33m.\u001b[0m\u001b[0mfull_url\u001b[0m\u001b[1;33m,\u001b[0m \u001b[0mreq\u001b[0m\u001b[1;33m.\u001b[0m\u001b[0mdata\u001b[0m\u001b[1;33m,\u001b[0m \u001b[0mreq\u001b[0m\u001b[1;33m.\u001b[0m\u001b[0mheaders\u001b[0m\u001b[1;33m,\u001b[0m \u001b[0mreq\u001b[0m\u001b[1;33m.\u001b[0m\u001b[0mget_method\u001b[0m\u001b[1;33m(\u001b[0m\u001b[1;33m)\u001b[0m\u001b[1;33m)\u001b[0m\u001b[1;33m\u001b[0m\u001b[1;33m\u001b[0m\u001b[0m\n\u001b[1;32m--> 525\u001b[1;33m         \u001b[0mresponse\u001b[0m \u001b[1;33m=\u001b[0m \u001b[0mself\u001b[0m\u001b[1;33m.\u001b[0m\u001b[0m_open\u001b[0m\u001b[1;33m(\u001b[0m\u001b[0mreq\u001b[0m\u001b[1;33m,\u001b[0m \u001b[0mdata\u001b[0m\u001b[1;33m)\u001b[0m\u001b[1;33m\u001b[0m\u001b[1;33m\u001b[0m\u001b[0m\n\u001b[0m\u001b[0;32m    526\u001b[0m \u001b[1;33m\u001b[0m\u001b[0m\n\u001b[0;32m    527\u001b[0m         \u001b[1;31m# post-process response\u001b[0m\u001b[1;33m\u001b[0m\u001b[1;33m\u001b[0m\u001b[1;33m\u001b[0m\u001b[0m\n",
      "\u001b[1;32mC:\\Anaconda\\lib\\urllib\\request.py\u001b[0m in \u001b[0;36m_open\u001b[1;34m(self, req, data)\u001b[0m\n\u001b[0;32m    540\u001b[0m \u001b[1;33m\u001b[0m\u001b[0m\n\u001b[0;32m    541\u001b[0m         \u001b[0mprotocol\u001b[0m \u001b[1;33m=\u001b[0m \u001b[0mreq\u001b[0m\u001b[1;33m.\u001b[0m\u001b[0mtype\u001b[0m\u001b[1;33m\u001b[0m\u001b[1;33m\u001b[0m\u001b[0m\n\u001b[1;32m--> 542\u001b[1;33m         result = self._call_chain(self.handle_open, protocol, protocol +\n\u001b[0m\u001b[0;32m    543\u001b[0m                                   '_open', req)\n\u001b[0;32m    544\u001b[0m         \u001b[1;32mif\u001b[0m \u001b[0mresult\u001b[0m\u001b[1;33m:\u001b[0m\u001b[1;33m\u001b[0m\u001b[1;33m\u001b[0m\u001b[0m\n",
      "\u001b[1;32mC:\\Anaconda\\lib\\urllib\\request.py\u001b[0m in \u001b[0;36m_call_chain\u001b[1;34m(self, chain, kind, meth_name, *args)\u001b[0m\n\u001b[0;32m    500\u001b[0m         \u001b[1;32mfor\u001b[0m \u001b[0mhandler\u001b[0m \u001b[1;32min\u001b[0m \u001b[0mhandlers\u001b[0m\u001b[1;33m:\u001b[0m\u001b[1;33m\u001b[0m\u001b[1;33m\u001b[0m\u001b[0m\n\u001b[0;32m    501\u001b[0m             \u001b[0mfunc\u001b[0m \u001b[1;33m=\u001b[0m \u001b[0mgetattr\u001b[0m\u001b[1;33m(\u001b[0m\u001b[0mhandler\u001b[0m\u001b[1;33m,\u001b[0m \u001b[0mmeth_name\u001b[0m\u001b[1;33m)\u001b[0m\u001b[1;33m\u001b[0m\u001b[1;33m\u001b[0m\u001b[0m\n\u001b[1;32m--> 502\u001b[1;33m             \u001b[0mresult\u001b[0m \u001b[1;33m=\u001b[0m \u001b[0mfunc\u001b[0m\u001b[1;33m(\u001b[0m\u001b[1;33m*\u001b[0m\u001b[0margs\u001b[0m\u001b[1;33m)\u001b[0m\u001b[1;33m\u001b[0m\u001b[1;33m\u001b[0m\u001b[0m\n\u001b[0m\u001b[0;32m    503\u001b[0m             \u001b[1;32mif\u001b[0m \u001b[0mresult\u001b[0m \u001b[1;32mis\u001b[0m \u001b[1;32mnot\u001b[0m \u001b[1;32mNone\u001b[0m\u001b[1;33m:\u001b[0m\u001b[1;33m\u001b[0m\u001b[1;33m\u001b[0m\u001b[0m\n\u001b[0;32m    504\u001b[0m                 \u001b[1;32mreturn\u001b[0m \u001b[0mresult\u001b[0m\u001b[1;33m\u001b[0m\u001b[1;33m\u001b[0m\u001b[0m\n",
      "\u001b[1;32mC:\\Anaconda\\lib\\urllib\\request.py\u001b[0m in \u001b[0;36mhttps_open\u001b[1;34m(self, req)\u001b[0m\n\u001b[0;32m   1391\u001b[0m \u001b[1;33m\u001b[0m\u001b[0m\n\u001b[0;32m   1392\u001b[0m         \u001b[1;32mdef\u001b[0m \u001b[0mhttps_open\u001b[0m\u001b[1;33m(\u001b[0m\u001b[0mself\u001b[0m\u001b[1;33m,\u001b[0m \u001b[0mreq\u001b[0m\u001b[1;33m)\u001b[0m\u001b[1;33m:\u001b[0m\u001b[1;33m\u001b[0m\u001b[1;33m\u001b[0m\u001b[0m\n\u001b[1;32m-> 1393\u001b[1;33m             return self.do_open(http.client.HTTPSConnection, req,\n\u001b[0m\u001b[0;32m   1394\u001b[0m                 context=self._context, check_hostname=self._check_hostname)\n\u001b[0;32m   1395\u001b[0m \u001b[1;33m\u001b[0m\u001b[0m\n",
      "\u001b[1;32mC:\\Anaconda\\lib\\urllib\\request.py\u001b[0m in \u001b[0;36mdo_open\u001b[1;34m(self, http_class, req, **http_conn_args)\u001b[0m\n\u001b[0;32m   1351\u001b[0m                           encode_chunked=req.has_header('Transfer-encoding'))\n\u001b[0;32m   1352\u001b[0m             \u001b[1;32mexcept\u001b[0m \u001b[0mOSError\u001b[0m \u001b[1;32mas\u001b[0m \u001b[0merr\u001b[0m\u001b[1;33m:\u001b[0m \u001b[1;31m# timeout error\u001b[0m\u001b[1;33m\u001b[0m\u001b[1;33m\u001b[0m\u001b[0m\n\u001b[1;32m-> 1353\u001b[1;33m                 \u001b[1;32mraise\u001b[0m \u001b[0mURLError\u001b[0m\u001b[1;33m(\u001b[0m\u001b[0merr\u001b[0m\u001b[1;33m)\u001b[0m\u001b[1;33m\u001b[0m\u001b[1;33m\u001b[0m\u001b[0m\n\u001b[0m\u001b[0;32m   1354\u001b[0m             \u001b[0mr\u001b[0m \u001b[1;33m=\u001b[0m \u001b[0mh\u001b[0m\u001b[1;33m.\u001b[0m\u001b[0mgetresponse\u001b[0m\u001b[1;33m(\u001b[0m\u001b[1;33m)\u001b[0m\u001b[1;33m\u001b[0m\u001b[1;33m\u001b[0m\u001b[0m\n\u001b[0;32m   1355\u001b[0m         \u001b[1;32mexcept\u001b[0m\u001b[1;33m:\u001b[0m\u001b[1;33m\u001b[0m\u001b[1;33m\u001b[0m\u001b[0m\n",
      "\u001b[1;31mURLError\u001b[0m: <urlopen error [Errno 11001] getaddrinfo failed>"
     ]
    }
   ],
   "source": [
    "data2020 = pd.read_csv('https://raw.githubusercontent.com/antoniofariass/Statistic/main/Projeto/datatran2020.csv', sep=';', encoding = 'latin_1')\n",
    "data2019 = pd.read_csv('https://raw.githubusercontent.com/antoniofariass/Statistic/main/Projeto/datatran2019.csv', sep=';', encoding = 'latin_1')"
   ]
  },
  {
   "cell_type": "markdown",
   "id": "emerging-isaac",
   "metadata": {},
   "source": [
    "# 2ª \n",
    "\n",
    "## (a) quantos acidentes ocorreram em cada ano?"
   ]
  },
  {
   "cell_type": "markdown",
   "id": "similar-supplement",
   "metadata": {},
   "source": [
    "#### Sabendo que o total de acidentes são os numeros de linhas de cada dataframe, utilizei do len para ler o numero presente de linhas no .index"
   ]
  },
  {
   "cell_type": "code",
   "execution_count": 3,
   "id": "geographic-catalyst",
   "metadata": {},
   "outputs": [
    {
     "name": "stdout",
     "output_type": "stream",
     "text": [
      " Total de acidentes em 2019: 67446\n",
      " Total de acidentes em 2020: 63447\n"
     ]
    }
   ],
   "source": [
    "print(f' Total de acidentes em 2019: {len(data2019.index)}')\n",
    "print(f' Total de acidentes em 2020: {len(data2020.index)}')"
   ]
  },
  {
   "cell_type": "markdown",
   "id": "realistic-rescue",
   "metadata": {},
   "source": [
    "## (b) quantas variáveis cada conjunto de dados registra?\n"
   ]
  },
  {
   "cell_type": "markdown",
   "id": "practical-cooking",
   "metadata": {},
   "source": [
    "#### Utilizando-se da mesma linha de pensamento anterior, len para ler o numero de colunas que o .columns nos da"
   ]
  },
  {
   "cell_type": "code",
   "execution_count": 4,
   "id": "latest-surname",
   "metadata": {},
   "outputs": [
    {
     "name": "stdout",
     "output_type": "stream",
     "text": [
      "Total de variáveis por conjunto: 30\n"
     ]
    }
   ],
   "source": [
    "print(f'Total de variáveis por conjunto: {len(data2020.columns)}')"
   ]
  },
  {
   "cell_type": "markdown",
   "id": "casual-athens",
   "metadata": {},
   "source": [
    "## (c) quais as cinco cidades brasileiras onde mais ocorreram acidentes em rodovias federais?"
   ]
  },
  {
   "cell_type": "markdown",
   "id": "seasonal-leeds",
   "metadata": {},
   "source": [
    "#### Utilizei a função value_counts para contar quantas vezes cada municipio aparece na coluna \"municipio\" do dataframe e a função .head() para pegar os 5 primeiros da lista, na qual estao as cidades com mais acidentes"
   ]
  },
  {
   "cell_type": "code",
   "execution_count": 5,
   "id": "ignored-necklace",
   "metadata": {},
   "outputs": [],
   "source": [
    "newdata19 = data2019.value_counts(['municipio']).head()\n",
    "newdata20 = data2020.value_counts(['municipio']).head()"
   ]
  },
  {
   "cell_type": "markdown",
   "id": "divine-helicopter",
   "metadata": {},
   "source": [
    "#### Printando as variaveis junto com as frases indicativas"
   ]
  },
  {
   "cell_type": "code",
   "execution_count": 6,
   "id": "metric-extent",
   "metadata": {},
   "outputs": [
    {
     "name": "stdout",
     "output_type": "stream",
     "text": [
      "RANKING DAS 5 CIDADES BRASILEIRAS COM MAIS ACIDENTES EM 2019\n",
      "municipio\n",
      "CURITIBA     1094\n",
      "BRASILIA     1090\n",
      "SAO JOSE      819\n",
      "GUARULHOS     717\n",
      "SERRA         633\n",
      "dtype: int64\n"
     ]
    }
   ],
   "source": [
    "print('RANKING DAS 5 CIDADES BRASILEIRAS COM MAIS ACIDENTES EM 2019')\n",
    "print(newdata19)"
   ]
  },
  {
   "cell_type": "code",
   "execution_count": 7,
   "id": "convinced-stanford",
   "metadata": {},
   "outputs": [
    {
     "name": "stdout",
     "output_type": "stream",
     "text": [
      "RANKING DAS 5 CIDADES BRASILEIRAS COM MAIS ACIDENTES EM 2020\n",
      "municipio\n",
      "BRASILIA     1040\n",
      "CURITIBA      945\n",
      "GUARULHOS     639\n",
      "SAO JOSE      629\n",
      "PALHOCA       593\n",
      "dtype: int64\n"
     ]
    }
   ],
   "source": [
    "print('RANKING DAS 5 CIDADES BRASILEIRAS COM MAIS ACIDENTES EM 2020')\n",
    "print(newdata20)"
   ]
  },
  {
   "cell_type": "markdown",
   "id": "cellular-reservation",
   "metadata": {},
   "source": [
    "## (d) quantos acidentes com feridos graves aconteceram na Paraíba em 2019?"
   ]
  },
  {
   "cell_type": "markdown",
   "id": "stainless-eating",
   "metadata": {},
   "source": [
    "#### Primeiro fiz o filtro, na coluna 'uf' igualei a 'PB' para toda linha que tiver 'PB' ser retornado True."
   ]
  },
  {
   "cell_type": "code",
   "execution_count": 8,
   "id": "suited-bleeding",
   "metadata": {},
   "outputs": [],
   "source": [
    "filtro_pb = data2019['uf'] == 'PB'"
   ]
  },
  {
   "cell_type": "markdown",
   "id": "returning-discovery",
   "metadata": {},
   "source": [
    "#### Com o filtro definido, selecionei as linhas 'PB' com a condição de 'feridos_graves' maiores que 0 assim ele ira retornar todas os acidentes que tiveram feridos graves na paraiba"
   ]
  },
  {
   "cell_type": "code",
   "execution_count": 9,
   "id": "described-audience",
   "metadata": {},
   "outputs": [],
   "source": [
    "acidentes = data2019[filtro_pb]['feridos_graves'] > 0"
   ]
  },
  {
   "cell_type": "markdown",
   "id": "widespread-record",
   "metadata": {},
   "source": [
    "#### No print, usei a função .sum() para somar todos os True que apareceram na variavel acidente!"
   ]
  },
  {
   "cell_type": "code",
   "execution_count": 10,
   "id": "certified-container",
   "metadata": {},
   "outputs": [
    {
     "name": "stdout",
     "output_type": "stream",
     "text": [
      "Ocorreram 414 acidentes com feridos graves na Paraíba em 2019!\n"
     ]
    }
   ],
   "source": [
    "print(f'Ocorreram {acidentes.sum()} acidentes com feridos graves na Paraíba em 2019!')"
   ]
  },
  {
   "cell_type": "markdown",
   "id": "expected-usage",
   "metadata": {},
   "source": [
    "# 3ª\n",
    "\n",
    "## (a) ranking de acidentes por estado para ambos os anos (um só arquivo combinando a informação dos dois anos);"
   ]
  },
  {
   "cell_type": "markdown",
   "id": "signed-ridge",
   "metadata": {},
   "source": [
    "#### Primeiramente, usando a função value_counts() somei as vezes que cada uf aparece, totalizando o numero de acidentes por uf."
   ]
  },
  {
   "cell_type": "code",
   "execution_count": 11,
   "id": "attractive-chassis",
   "metadata": {},
   "outputs": [],
   "source": [
    "acidentes2019 = data2019.value_counts(['uf'])\n",
    "acidentes2020 = data2020.value_counts(['uf'])"
   ]
  },
  {
   "cell_type": "markdown",
   "id": "sustainable-egypt",
   "metadata": {},
   "source": [
    "#### Com o total, somei as series dos dois anos, transformei em data frame usando o to_frame(), e ordenei em ordem crescente com o sort_values() apos isso, utilizei o iloc -1 para inverter a ordem e começar do final,assim, fez com que se transformasse em ordem decrescente."
   ]
  },
  {
   "cell_type": "code",
   "execution_count": 12,
   "id": "extreme-terminal",
   "metadata": {},
   "outputs": [],
   "source": [
    "total_acidentes = (acidentes2019+acidentes2020).to_frame().sort_values(by = 0).iloc[::-1]\n"
   ]
  },
  {
   "cell_type": "markdown",
   "id": "swiss-correspondence",
   "metadata": {},
   "source": [
    "#### Usando o .to_csv() para transformar o data frame em um arquivo .csv dentro do arquivo do projeto"
   ]
  },
  {
   "cell_type": "code",
   "execution_count": 13,
   "id": "nutritional-lewis",
   "metadata": {},
   "outputs": [],
   "source": [
    "total_acidentes.to_csv(r'total_acidentes.csv')"
   ]
  },
  {
   "cell_type": "markdown",
   "id": "functional-india",
   "metadata": {},
   "source": [
    "#### Lendo o arquivo csv que esta dentro do projeto"
   ]
  },
  {
   "cell_type": "code",
   "execution_count": 14,
   "id": "fitted-salad",
   "metadata": {},
   "outputs": [
    {
     "data": {
      "text/html": [
       "<div>\n",
       "<style scoped>\n",
       "    .dataframe tbody tr th:only-of-type {\n",
       "        vertical-align: middle;\n",
       "    }\n",
       "\n",
       "    .dataframe tbody tr th {\n",
       "        vertical-align: top;\n",
       "    }\n",
       "\n",
       "    .dataframe thead th {\n",
       "        text-align: right;\n",
       "    }\n",
       "</style>\n",
       "<table border=\"1\" class=\"dataframe\">\n",
       "  <thead>\n",
       "    <tr style=\"text-align: right;\">\n",
       "      <th></th>\n",
       "      <th>uf</th>\n",
       "      <th>0</th>\n",
       "    </tr>\n",
       "  </thead>\n",
       "  <tbody>\n",
       "    <tr>\n",
       "      <th>0</th>\n",
       "      <td>MG</td>\n",
       "      <td>17083</td>\n",
       "    </tr>\n",
       "    <tr>\n",
       "      <th>1</th>\n",
       "      <td>SC</td>\n",
       "      <td>15645</td>\n",
       "    </tr>\n",
       "    <tr>\n",
       "      <th>2</th>\n",
       "      <td>PR</td>\n",
       "      <td>14876</td>\n",
       "    </tr>\n",
       "    <tr>\n",
       "      <th>3</th>\n",
       "      <td>RJ</td>\n",
       "      <td>8828</td>\n",
       "    </tr>\n",
       "    <tr>\n",
       "      <th>4</th>\n",
       "      <td>RS</td>\n",
       "      <td>8771</td>\n",
       "    </tr>\n",
       "    <tr>\n",
       "      <th>5</th>\n",
       "      <td>SP</td>\n",
       "      <td>8417</td>\n",
       "    </tr>\n",
       "    <tr>\n",
       "      <th>6</th>\n",
       "      <td>BA</td>\n",
       "      <td>6914</td>\n",
       "    </tr>\n",
       "    <tr>\n",
       "      <th>7</th>\n",
       "      <td>GO</td>\n",
       "      <td>6580</td>\n",
       "    </tr>\n",
       "    <tr>\n",
       "      <th>8</th>\n",
       "      <td>ES</td>\n",
       "      <td>5372</td>\n",
       "    </tr>\n",
       "    <tr>\n",
       "      <th>9</th>\n",
       "      <td>PE</td>\n",
       "      <td>5293</td>\n",
       "    </tr>\n",
       "    <tr>\n",
       "      <th>10</th>\n",
       "      <td>MT</td>\n",
       "      <td>4326</td>\n",
       "    </tr>\n",
       "    <tr>\n",
       "      <th>11</th>\n",
       "      <td>CE</td>\n",
       "      <td>3263</td>\n",
       "    </tr>\n",
       "    <tr>\n",
       "      <th>12</th>\n",
       "      <td>RO</td>\n",
       "      <td>3018</td>\n",
       "    </tr>\n",
       "    <tr>\n",
       "      <th>13</th>\n",
       "      <td>MS</td>\n",
       "      <td>2974</td>\n",
       "    </tr>\n",
       "    <tr>\n",
       "      <th>14</th>\n",
       "      <td>PB</td>\n",
       "      <td>2965</td>\n",
       "    </tr>\n",
       "    <tr>\n",
       "      <th>15</th>\n",
       "      <td>RN</td>\n",
       "      <td>2770</td>\n",
       "    </tr>\n",
       "    <tr>\n",
       "      <th>16</th>\n",
       "      <td>PI</td>\n",
       "      <td>2546</td>\n",
       "    </tr>\n",
       "    <tr>\n",
       "      <th>17</th>\n",
       "      <td>MA</td>\n",
       "      <td>2226</td>\n",
       "    </tr>\n",
       "    <tr>\n",
       "      <th>18</th>\n",
       "      <td>DF</td>\n",
       "      <td>2130</td>\n",
       "    </tr>\n",
       "    <tr>\n",
       "      <th>19</th>\n",
       "      <td>PA</td>\n",
       "      <td>1776</td>\n",
       "    </tr>\n",
       "    <tr>\n",
       "      <th>20</th>\n",
       "      <td>AL</td>\n",
       "      <td>1257</td>\n",
       "    </tr>\n",
       "    <tr>\n",
       "      <th>21</th>\n",
       "      <td>SE</td>\n",
       "      <td>1186</td>\n",
       "    </tr>\n",
       "    <tr>\n",
       "      <th>22</th>\n",
       "      <td>TO</td>\n",
       "      <td>1115</td>\n",
       "    </tr>\n",
       "    <tr>\n",
       "      <th>23</th>\n",
       "      <td>AC</td>\n",
       "      <td>554</td>\n",
       "    </tr>\n",
       "    <tr>\n",
       "      <th>24</th>\n",
       "      <td>RR</td>\n",
       "      <td>487</td>\n",
       "    </tr>\n",
       "    <tr>\n",
       "      <th>25</th>\n",
       "      <td>AP</td>\n",
       "      <td>283</td>\n",
       "    </tr>\n",
       "    <tr>\n",
       "      <th>26</th>\n",
       "      <td>AM</td>\n",
       "      <td>238</td>\n",
       "    </tr>\n",
       "  </tbody>\n",
       "</table>\n",
       "</div>"
      ],
      "text/plain": [
       "    uf      0\n",
       "0   MG  17083\n",
       "1   SC  15645\n",
       "2   PR  14876\n",
       "3   RJ   8828\n",
       "4   RS   8771\n",
       "5   SP   8417\n",
       "6   BA   6914\n",
       "7   GO   6580\n",
       "8   ES   5372\n",
       "9   PE   5293\n",
       "10  MT   4326\n",
       "11  CE   3263\n",
       "12  RO   3018\n",
       "13  MS   2974\n",
       "14  PB   2965\n",
       "15  RN   2770\n",
       "16  PI   2546\n",
       "17  MA   2226\n",
       "18  DF   2130\n",
       "19  PA   1776\n",
       "20  AL   1257\n",
       "21  SE   1186\n",
       "22  TO   1115\n",
       "23  AC    554\n",
       "24  RR    487\n",
       "25  AP    283\n",
       "26  AM    238"
      ]
     },
     "execution_count": 14,
     "metadata": {},
     "output_type": "execute_result"
    }
   ],
   "source": [
    "pd.read_csv('total_acidentes.csv')"
   ]
  },
  {
   "cell_type": "markdown",
   "id": "tired-constitutional",
   "metadata": {},
   "source": [
    "## (b) acidentes por dia da semana para ambos os anos (um só arquivo combinando a informação dos dois anos).\n"
   ]
  },
  {
   "cell_type": "markdown",
   "id": "turned-findings",
   "metadata": {},
   "source": [
    "#### Usando-se novamente a função value_counts() para se somar todas as vezes que aparece cada dia da semana."
   ]
  },
  {
   "cell_type": "code",
   "execution_count": 15,
   "id": "southwest-beijing",
   "metadata": {},
   "outputs": [],
   "source": [
    "semana2019 =data2019.value_counts(['dia_semana'])\n",
    "semana2020 = data2020.value_counts(['dia_semana'])"
   ]
  },
  {
   "cell_type": "markdown",
   "id": "czech-bidding",
   "metadata": {},
   "source": [
    "#### Após somar os dias, somei as 2 variaveis que representam os 2 anos, e transformei em um dataframe."
   ]
  },
  {
   "cell_type": "code",
   "execution_count": 16,
   "id": "heard-gazette",
   "metadata": {},
   "outputs": [],
   "source": [
    "total_semana = (semana2019 + semana2020).to_frame()"
   ]
  },
  {
   "cell_type": "markdown",
   "id": "greatest-effects",
   "metadata": {},
   "source": [
    "#### Usando o .to_csv() para transformar o data frame em um arquivo .csv dentro do arquivo do projeto"
   ]
  },
  {
   "cell_type": "code",
   "execution_count": 17,
   "id": "previous-asthma",
   "metadata": {},
   "outputs": [],
   "source": [
    "total_semana.to_csv(r'total_semana.csv')"
   ]
  },
  {
   "cell_type": "markdown",
   "id": "criminal-attendance",
   "metadata": {},
   "source": [
    "#### Lendo o arquivo csv que esta dentro do projeto"
   ]
  },
  {
   "cell_type": "code",
   "execution_count": 18,
   "id": "certified-county",
   "metadata": {},
   "outputs": [
    {
     "data": {
      "text/html": [
       "<div>\n",
       "<style scoped>\n",
       "    .dataframe tbody tr th:only-of-type {\n",
       "        vertical-align: middle;\n",
       "    }\n",
       "\n",
       "    .dataframe tbody tr th {\n",
       "        vertical-align: top;\n",
       "    }\n",
       "\n",
       "    .dataframe thead th {\n",
       "        text-align: right;\n",
       "    }\n",
       "</style>\n",
       "<table border=\"1\" class=\"dataframe\">\n",
       "  <thead>\n",
       "    <tr style=\"text-align: right;\">\n",
       "      <th></th>\n",
       "      <th>dia_semana</th>\n",
       "      <th>0</th>\n",
       "    </tr>\n",
       "  </thead>\n",
       "  <tbody>\n",
       "    <tr>\n",
       "      <th>0</th>\n",
       "      <td>domingo</td>\n",
       "      <td>21706</td>\n",
       "    </tr>\n",
       "    <tr>\n",
       "      <th>1</th>\n",
       "      <td>quarta-feira</td>\n",
       "      <td>16516</td>\n",
       "    </tr>\n",
       "    <tr>\n",
       "      <th>2</th>\n",
       "      <td>quinta-feira</td>\n",
       "      <td>16981</td>\n",
       "    </tr>\n",
       "    <tr>\n",
       "      <th>3</th>\n",
       "      <td>segunda-feira</td>\n",
       "      <td>17638</td>\n",
       "    </tr>\n",
       "    <tr>\n",
       "      <th>4</th>\n",
       "      <td>sexta-feira</td>\n",
       "      <td>20131</td>\n",
       "    </tr>\n",
       "    <tr>\n",
       "      <th>5</th>\n",
       "      <td>sábado</td>\n",
       "      <td>21744</td>\n",
       "    </tr>\n",
       "    <tr>\n",
       "      <th>6</th>\n",
       "      <td>terça-feira</td>\n",
       "      <td>16177</td>\n",
       "    </tr>\n",
       "  </tbody>\n",
       "</table>\n",
       "</div>"
      ],
      "text/plain": [
       "      dia_semana      0\n",
       "0        domingo  21706\n",
       "1   quarta-feira  16516\n",
       "2   quinta-feira  16981\n",
       "3  segunda-feira  17638\n",
       "4    sexta-feira  20131\n",
       "5         sábado  21744\n",
       "6    terça-feira  16177"
      ]
     },
     "execution_count": 18,
     "metadata": {},
     "output_type": "execute_result"
    }
   ],
   "source": [
    "pd.read_csv('total_semana.csv')"
   ]
  },
  {
   "cell_type": "markdown",
   "id": "surprising-space",
   "metadata": {},
   "source": [
    "# 4ª \n",
    "\n",
    "## (a) qual a causa mais frequente e a mais rara de acidentes registrados nos dois anos?"
   ]
  },
  {
   "cell_type": "markdown",
   "id": "surface-competition",
   "metadata": {},
   "source": [
    "#### Utilizei novamente o value_counts() para descobrir quais causas apareciam mais e quais menos de cada ano depois usei o tail() para pegar os ultimos, na qual representam os mais raros e o head para para pegar o primeiro, que representa o mais frequente."
   ]
  },
  {
   "cell_type": "markdown",
   "id": "olympic-strap",
   "metadata": {},
   "source": [
    "#### No caso de 2020, se usou o tail(10), pois os 10 ultimos(os mais raros),tiveram apenas uma unica vez, logo foram enquadrados como raro!"
   ]
  },
  {
   "cell_type": "code",
   "execution_count": 19,
   "id": "naughty-protest",
   "metadata": {},
   "outputs": [],
   "source": [
    "maisrara2020 = data2020.value_counts(['causa_acidente']).tail(10)\n",
    "maisrara2019 = data2019.value_counts(['causa_acidente']).tail(1)\n",
    "maisfrequente2020 = data2020.value_counts(['causa_acidente']).head(1)\n",
    "maisfrequente2019 = data2019.value_counts(['causa_acidente']).head(1)"
   ]
  },
  {
   "cell_type": "markdown",
   "id": "complimentary-person",
   "metadata": {},
   "source": [
    "#### Printando os casos junto com frases indicativas"
   ]
  },
  {
   "cell_type": "code",
   "execution_count": 20,
   "id": "swedish-arkansas",
   "metadata": {},
   "outputs": [
    {
     "name": "stdout",
     "output_type": "stream",
     "text": [
      " A causa mais rara de 2019:\n",
      "causa_acidente                     \n",
      "Ingestão de Substâncias Psicoativas    94\n",
      "dtype: int64,\n",
      "\n",
      "As causas mais raras de 2020:\n",
      "causa_acidente                                                \n",
      "Acumulo de óleo sobre o pavimento                                 1\n",
      "Afundamento ou ondulação no pavimento                             1\n",
      "Pedestre cruzava a pista fora da faixa                            1\n",
      "Acumulo de água sobre o pavimento                                 1\n",
      "Condutor usando celular                                           1\n",
      "Trafegar com motocicleta (ou similar) entre as faixas             1\n",
      "Ausência de sinalização                                           1\n",
      "Ingestão de álcool ou de substâncias psicoativas pelo pedestre    1\n",
      "Acostamento em desnível                                           1\n",
      "Frear bruscamente                                                 1\n",
      "dtype: int64,\n",
      "\n",
      "A causa mais frequente de 2019:\n",
      "causa_acidente             \n",
      "Falta de Atenção à Condução    24992\n",
      "dtype: int64\n",
      "\n",
      "A causa mais frequente de 2020:\n",
      "causa_acidente             \n",
      "Falta de Atenção à Condução    22414\n",
      "dtype: int64\n"
     ]
    }
   ],
   "source": [
    "print(f''' A causa mais rara de 2019:\n",
    "{maisrara2019},\n",
    "\n",
    "As causas mais raras de 2020:\n",
    "{maisrara2020},\n",
    "\n",
    "A causa mais frequente de 2019:\n",
    "{maisfrequente2019}\n",
    "\n",
    "A causa mais frequente de 2020:\n",
    "{maisfrequente2020}''')"
   ]
  },
  {
   "cell_type": "markdown",
   "id": "bibliographic-shape",
   "metadata": {},
   "source": [
    "## (b) qual a proporção de pessoas ilesas e de feridos graves por mês em cada um dos anos considerados? (proporção = numero de ilesos ou feridos graves/ número total de pessoas envolvidas no acidente);\n"
   ]
  },
  {
   "cell_type": "markdown",
   "id": "developing-expression",
   "metadata": {},
   "source": [
    "#### Criando uma lista com todos os meses do ano "
   ]
  },
  {
   "cell_type": "code",
   "execution_count": 21,
   "id": "dutch-storage",
   "metadata": {},
   "outputs": [],
   "source": [
    "meses = ['Janeiro','Fevereiro','Março','Abril','Maio','Junho','Julho','Agosto','Setembro','Outubro','Novembro','Dezembro']"
   ]
  },
  {
   "cell_type": "markdown",
   "id": "plastic-supplier",
   "metadata": {},
   "source": [
    "#### Utilizei o groupby para agrupar na coluna data_inversa os meses utilizando o datetimeindex para transformar a str que representa a data  em uma data numerica que a função consiga ler e usei a função month com o intuito de separar os meses do ano e a função para somar os ilesos por mês."
   ]
  },
  {
   "cell_type": "code",
   "execution_count": 22,
   "id": "ambient-expert",
   "metadata": {},
   "outputs": [],
   "source": [
    "vitimasilesas2019 = data2019.groupby(pd.DatetimeIndex(data2019.data_inversa).month)['ilesos'].sum()"
   ]
  },
  {
   "cell_type": "markdown",
   "id": "fantastic-arnold",
   "metadata": {},
   "source": [
    "#### Criei um array com o numero de vitimas ilesas por mes "
   ]
  },
  {
   "cell_type": "code",
   "execution_count": 23,
   "id": "another-conclusion",
   "metadata": {},
   "outputs": [],
   "source": [
    "ilesos2019 = pd.array(vitimasilesas2019)"
   ]
  },
  {
   "cell_type": "markdown",
   "id": "tamil-hebrew",
   "metadata": {},
   "source": [
    "#### Basicamente a mesma coisas do codigo acima, so que dessa vez foi para os feridos graves"
   ]
  },
  {
   "cell_type": "code",
   "execution_count": 24,
   "id": "informational-mumbai",
   "metadata": {},
   "outputs": [],
   "source": [
    "feridosgraves2019 =  data2019.groupby(pd.DatetimeIndex(data2019.data_inversa).month)['feridos_graves'].sum()"
   ]
  },
  {
   "cell_type": "markdown",
   "id": "combined-gospel",
   "metadata": {},
   "source": [
    "#### Criei um array com o numero de feridos graves por mes  "
   ]
  },
  {
   "cell_type": "code",
   "execution_count": 25,
   "id": "configured-theorem",
   "metadata": {},
   "outputs": [],
   "source": [
    "graves2019 = pd.array(feridosgraves2019)"
   ]
  },
  {
   "cell_type": "markdown",
   "id": "industrial-wings",
   "metadata": {},
   "source": [
    "#### Mesma coisa so que com o total de pessoas dessa vez"
   ]
  },
  {
   "cell_type": "code",
   "execution_count": 26,
   "id": "million-guard",
   "metadata": {},
   "outputs": [],
   "source": [
    "total2019 = data2019.groupby(pd.DatetimeIndex(data2019.data_inversa).month)['pessoas'].sum()"
   ]
  },
  {
   "cell_type": "markdown",
   "id": "antique-thing",
   "metadata": {},
   "source": [
    "#### Criei um array com o numero de pessoas por mes "
   ]
  },
  {
   "cell_type": "code",
   "execution_count": 27,
   "id": "chemical-benchmark",
   "metadata": {},
   "outputs": [],
   "source": [
    "totalpessoas2019 = pd.array(total2019)"
   ]
  },
  {
   "cell_type": "markdown",
   "id": "regulated-investigation",
   "metadata": {},
   "source": [
    "#### Fazendo a proporção de ilesos e graves pelo total de pessoas"
   ]
  },
  {
   "cell_type": "code",
   "execution_count": 28,
   "id": "indie-dispute",
   "metadata": {},
   "outputs": [],
   "source": [
    "divisaoilesos2019 = ilesos2019/totalpessoas2019\n",
    "divisaograves2019 = graves2019/totalpessoas2019\n"
   ]
  },
  {
   "cell_type": "markdown",
   "id": "unsigned-gilbert",
   "metadata": {},
   "source": [
    "#### Criando um dicionario com a nomeação e seus respectivas divisões"
   ]
  },
  {
   "cell_type": "code",
   "execution_count": 29,
   "id": "vertical-result",
   "metadata": {},
   "outputs": [],
   "source": [
    "resposta2019 = {'Ilesos 2019':divisaoilesos2019,'Feridos Graves 2019': divisaograves2019}"
   ]
  },
  {
   "cell_type": "markdown",
   "id": "dutch-apparatus",
   "metadata": {},
   "source": [
    "#### Transformando em um dataframe com o index da list criada no começo da resolução da questão"
   ]
  },
  {
   "cell_type": "code",
   "execution_count": 30,
   "id": "indonesian-mumbai",
   "metadata": {},
   "outputs": [
    {
     "data": {
      "text/html": [
       "<div>\n",
       "<style scoped>\n",
       "    .dataframe tbody tr th:only-of-type {\n",
       "        vertical-align: middle;\n",
       "    }\n",
       "\n",
       "    .dataframe tbody tr th {\n",
       "        vertical-align: top;\n",
       "    }\n",
       "\n",
       "    .dataframe thead th {\n",
       "        text-align: right;\n",
       "    }\n",
       "</style>\n",
       "<table border=\"1\" class=\"dataframe\">\n",
       "  <thead>\n",
       "    <tr style=\"text-align: right;\">\n",
       "      <th></th>\n",
       "      <th>Ilesos 2019</th>\n",
       "      <th>Feridos Graves 2019</th>\n",
       "    </tr>\n",
       "  </thead>\n",
       "  <tbody>\n",
       "    <tr>\n",
       "      <th>Janeiro</th>\n",
       "      <td>0.424224</td>\n",
       "      <td>0.113264</td>\n",
       "    </tr>\n",
       "    <tr>\n",
       "      <th>Fevereiro</th>\n",
       "      <td>0.424104</td>\n",
       "      <td>0.106789</td>\n",
       "    </tr>\n",
       "    <tr>\n",
       "      <th>Março</th>\n",
       "      <td>0.433193</td>\n",
       "      <td>0.114599</td>\n",
       "    </tr>\n",
       "    <tr>\n",
       "      <th>Abril</th>\n",
       "      <td>0.415685</td>\n",
       "      <td>0.105970</td>\n",
       "    </tr>\n",
       "    <tr>\n",
       "      <th>Maio</th>\n",
       "      <td>0.415162</td>\n",
       "      <td>0.120750</td>\n",
       "    </tr>\n",
       "    <tr>\n",
       "      <th>Junho</th>\n",
       "      <td>0.423757</td>\n",
       "      <td>0.121617</td>\n",
       "    </tr>\n",
       "    <tr>\n",
       "      <th>Julho</th>\n",
       "      <td>0.436815</td>\n",
       "      <td>0.116670</td>\n",
       "    </tr>\n",
       "    <tr>\n",
       "      <th>Agosto</th>\n",
       "      <td>0.413084</td>\n",
       "      <td>0.116683</td>\n",
       "    </tr>\n",
       "    <tr>\n",
       "      <th>Setembro</th>\n",
       "      <td>0.421064</td>\n",
       "      <td>0.110656</td>\n",
       "    </tr>\n",
       "    <tr>\n",
       "      <th>Outubro</th>\n",
       "      <td>0.418922</td>\n",
       "      <td>0.119805</td>\n",
       "    </tr>\n",
       "    <tr>\n",
       "      <th>Novembro</th>\n",
       "      <td>0.425812</td>\n",
       "      <td>0.111047</td>\n",
       "    </tr>\n",
       "    <tr>\n",
       "      <th>Dezembro</th>\n",
       "      <td>0.422265</td>\n",
       "      <td>0.114405</td>\n",
       "    </tr>\n",
       "  </tbody>\n",
       "</table>\n",
       "</div>"
      ],
      "text/plain": [
       "           Ilesos 2019  Feridos Graves 2019\n",
       "Janeiro       0.424224             0.113264\n",
       "Fevereiro     0.424104             0.106789\n",
       "Março         0.433193             0.114599\n",
       "Abril         0.415685             0.105970\n",
       "Maio          0.415162             0.120750\n",
       "Junho         0.423757             0.121617\n",
       "Julho         0.436815             0.116670\n",
       "Agosto        0.413084             0.116683\n",
       "Setembro      0.421064             0.110656\n",
       "Outubro       0.418922             0.119805\n",
       "Novembro      0.425812             0.111047\n",
       "Dezembro      0.422265             0.114405"
      ]
     },
     "execution_count": 30,
     "metadata": {},
     "output_type": "execute_result"
    }
   ],
   "source": [
    "transformindata2019 = pd.DataFrame(resposta2019,index=meses)\n",
    "transformindata2019\n"
   ]
  },
  {
   "cell_type": "markdown",
   "id": "documented-villa",
   "metadata": {},
   "source": [
    "#### Mesma coisa descrita anteriormente so que dessa vez para o ano de 2020."
   ]
  },
  {
   "cell_type": "code",
   "execution_count": 31,
   "id": "corrected-press",
   "metadata": {},
   "outputs": [
    {
     "data": {
      "text/html": [
       "<div>\n",
       "<style scoped>\n",
       "    .dataframe tbody tr th:only-of-type {\n",
       "        vertical-align: middle;\n",
       "    }\n",
       "\n",
       "    .dataframe tbody tr th {\n",
       "        vertical-align: top;\n",
       "    }\n",
       "\n",
       "    .dataframe thead th {\n",
       "        text-align: right;\n",
       "    }\n",
       "</style>\n",
       "<table border=\"1\" class=\"dataframe\">\n",
       "  <thead>\n",
       "    <tr style=\"text-align: right;\">\n",
       "      <th></th>\n",
       "      <th>Ilesos 2020</th>\n",
       "      <th>Feridos Graves 2020</th>\n",
       "    </tr>\n",
       "  </thead>\n",
       "  <tbody>\n",
       "    <tr>\n",
       "      <th>Janeiro</th>\n",
       "      <td>0.415565</td>\n",
       "      <td>0.107463</td>\n",
       "    </tr>\n",
       "    <tr>\n",
       "      <th>Fevereiro</th>\n",
       "      <td>0.420011</td>\n",
       "      <td>0.111356</td>\n",
       "    </tr>\n",
       "    <tr>\n",
       "      <th>Março</th>\n",
       "      <td>0.401040</td>\n",
       "      <td>0.112421</td>\n",
       "    </tr>\n",
       "    <tr>\n",
       "      <th>Abril</th>\n",
       "      <td>0.376492</td>\n",
       "      <td>0.117780</td>\n",
       "    </tr>\n",
       "    <tr>\n",
       "      <th>Maio</th>\n",
       "      <td>0.401271</td>\n",
       "      <td>0.115812</td>\n",
       "    </tr>\n",
       "    <tr>\n",
       "      <th>Junho</th>\n",
       "      <td>0.423486</td>\n",
       "      <td>0.115896</td>\n",
       "    </tr>\n",
       "    <tr>\n",
       "      <th>Julho</th>\n",
       "      <td>0.424454</td>\n",
       "      <td>0.108501</td>\n",
       "    </tr>\n",
       "    <tr>\n",
       "      <th>Agosto</th>\n",
       "      <td>0.423510</td>\n",
       "      <td>0.118872</td>\n",
       "    </tr>\n",
       "    <tr>\n",
       "      <th>Setembro</th>\n",
       "      <td>0.416369</td>\n",
       "      <td>0.117303</td>\n",
       "    </tr>\n",
       "    <tr>\n",
       "      <th>Outubro</th>\n",
       "      <td>0.411188</td>\n",
       "      <td>0.119475</td>\n",
       "    </tr>\n",
       "    <tr>\n",
       "      <th>Novembro</th>\n",
       "      <td>0.407667</td>\n",
       "      <td>0.120060</td>\n",
       "    </tr>\n",
       "    <tr>\n",
       "      <th>Dezembro</th>\n",
       "      <td>0.412464</td>\n",
       "      <td>0.121702</td>\n",
       "    </tr>\n",
       "  </tbody>\n",
       "</table>\n",
       "</div>"
      ],
      "text/plain": [
       "           Ilesos 2020  Feridos Graves 2020\n",
       "Janeiro       0.415565             0.107463\n",
       "Fevereiro     0.420011             0.111356\n",
       "Março         0.401040             0.112421\n",
       "Abril         0.376492             0.117780\n",
       "Maio          0.401271             0.115812\n",
       "Junho         0.423486             0.115896\n",
       "Julho         0.424454             0.108501\n",
       "Agosto        0.423510             0.118872\n",
       "Setembro      0.416369             0.117303\n",
       "Outubro       0.411188             0.119475\n",
       "Novembro      0.407667             0.120060\n",
       "Dezembro      0.412464             0.121702"
      ]
     },
     "execution_count": 31,
     "metadata": {},
     "output_type": "execute_result"
    }
   ],
   "source": [
    "vitimasilesas2020= data2020.groupby(pd.DatetimeIndex(data2020.data_inversa).month)['ilesos'].sum()\n",
    "ilesos2020 = pd.array(vitimasilesas2020)\n",
    "\n",
    "feridosgraves2020 =  data2020.groupby(pd.DatetimeIndex(data2020.data_inversa).month)['feridos_graves'].sum()\n",
    "graves2020 = pd.array(feridosgraves2020)\n",
    "\n",
    "total2020 = data2020.groupby(pd.DatetimeIndex(data2020.data_inversa).month)['pessoas'].sum()\n",
    "totalpessoas2020 = pd.array(total2020)\n",
    "\n",
    "divisaoilesos2020 = ilesos2020/totalpessoas2020\n",
    "divisaograves2020 = graves2020/totalpessoas2020\n",
    "\n",
    "resposta2020 = {'Ilesos 2020':divisaoilesos2020,'Feridos Graves 2020': divisaograves2020}\n",
    "transformindata2020 = pd.DataFrame(resposta2020,index=meses)\n",
    "transformindata2020\n"
   ]
  },
  {
   "cell_type": "markdown",
   "id": "desperate-basic",
   "metadata": {},
   "source": [
    "## (c) mostre, reorganizando o conjunto de dados, se a pandemia conseguiu diminuir ou não a incidência de acidentes nas rodovias federais."
   ]
  },
  {
   "cell_type": "markdown",
   "id": "conceptual-rochester",
   "metadata": {},
   "source": [
    "#### Nas variaveis a seguir, usando a função value_counts() somei os casos por estado "
   ]
  },
  {
   "cell_type": "code",
   "execution_count": 32,
   "id": "alpha-marketing",
   "metadata": {},
   "outputs": [],
   "source": [
    "acidentes2019 = data2019.value_counts(['uf'])\n",
    "acidentes2020 = data2020.value_counts(['uf'])"
   ]
  },
  {
   "cell_type": "markdown",
   "id": "divided-jewelry",
   "metadata": {},
   "source": [
    "#### Na variavel resultado, subtrai os casos de 2020 pelos de 2019, dividindo pelos de 2019 e multiplicando por 100 para pegar a porcentagem. apos isso, limitei as casas decimais com a função .round() e transformei os resultados em strings para acrescentar o simbolo da porcentagem."
   ]
  },
  {
   "cell_type": "code",
   "execution_count": 33,
   "id": "dependent-financing",
   "metadata": {},
   "outputs": [],
   "source": [
    "resultado = (((acidentes2020-acidentes2019)/acidentes2019)*100).round(1).astype(str) + '%'"
   ]
  },
  {
   "cell_type": "markdown",
   "id": "split-sterling",
   "metadata": {},
   "source": [
    "#### Com a varivel acidentestotal, usei a função concat, para juntar as series criadas anteriormente, usei o parametro axis = 1 para indicar o eixo que quero concatenar, no caso as colunas representadas pelo número 1."
   ]
  },
  {
   "cell_type": "code",
   "execution_count": 34,
   "id": "forty-details",
   "metadata": {},
   "outputs": [],
   "source": [
    "acidentestotal = pd.concat([acidentes2019,acidentes2020,resultado],axis=1).sort_values(by=0)"
   ]
  },
  {
   "cell_type": "markdown",
   "id": "improved-owner",
   "metadata": {},
   "source": [
    "#### Com a função columns, atribui os nomes das colunas '2019','2020' e 'Resultados', que antes eram representadas por números em ordens crescente."
   ]
  },
  {
   "cell_type": "code",
   "execution_count": 35,
   "id": "confused-encounter",
   "metadata": {},
   "outputs": [
    {
     "data": {
      "text/html": [
       "<div>\n",
       "<style scoped>\n",
       "    .dataframe tbody tr th:only-of-type {\n",
       "        vertical-align: middle;\n",
       "    }\n",
       "\n",
       "    .dataframe tbody tr th {\n",
       "        vertical-align: top;\n",
       "    }\n",
       "\n",
       "    .dataframe thead th {\n",
       "        text-align: right;\n",
       "    }\n",
       "</style>\n",
       "<table border=\"1\" class=\"dataframe\">\n",
       "  <thead>\n",
       "    <tr style=\"text-align: right;\">\n",
       "      <th></th>\n",
       "      <th>2019</th>\n",
       "      <th>2020</th>\n",
       "      <th>Resultados</th>\n",
       "    </tr>\n",
       "    <tr>\n",
       "      <th>uf</th>\n",
       "      <th></th>\n",
       "      <th></th>\n",
       "      <th></th>\n",
       "    </tr>\n",
       "  </thead>\n",
       "  <tbody>\n",
       "    <tr>\n",
       "      <th>AM</th>\n",
       "      <td>101</td>\n",
       "      <td>137</td>\n",
       "      <td>35.6%</td>\n",
       "    </tr>\n",
       "    <tr>\n",
       "      <th>AP</th>\n",
       "      <td>128</td>\n",
       "      <td>155</td>\n",
       "      <td>21.1%</td>\n",
       "    </tr>\n",
       "    <tr>\n",
       "      <th>RR</th>\n",
       "      <td>237</td>\n",
       "      <td>250</td>\n",
       "      <td>5.5%</td>\n",
       "    </tr>\n",
       "    <tr>\n",
       "      <th>AC</th>\n",
       "      <td>254</td>\n",
       "      <td>300</td>\n",
       "      <td>18.1%</td>\n",
       "    </tr>\n",
       "    <tr>\n",
       "      <th>TO</th>\n",
       "      <td>520</td>\n",
       "      <td>595</td>\n",
       "      <td>14.4%</td>\n",
       "    </tr>\n",
       "    <tr>\n",
       "      <th>SE</th>\n",
       "      <td>612</td>\n",
       "      <td>574</td>\n",
       "      <td>-6.2%</td>\n",
       "    </tr>\n",
       "    <tr>\n",
       "      <th>AL</th>\n",
       "      <td>629</td>\n",
       "      <td>628</td>\n",
       "      <td>-0.2%</td>\n",
       "    </tr>\n",
       "    <tr>\n",
       "      <th>PA</th>\n",
       "      <td>817</td>\n",
       "      <td>959</td>\n",
       "      <td>17.4%</td>\n",
       "    </tr>\n",
       "    <tr>\n",
       "      <th>MA</th>\n",
       "      <td>1075</td>\n",
       "      <td>1151</td>\n",
       "      <td>7.1%</td>\n",
       "    </tr>\n",
       "    <tr>\n",
       "      <th>DF</th>\n",
       "      <td>1090</td>\n",
       "      <td>1040</td>\n",
       "      <td>-4.6%</td>\n",
       "    </tr>\n",
       "    <tr>\n",
       "      <th>PI</th>\n",
       "      <td>1346</td>\n",
       "      <td>1200</td>\n",
       "      <td>-10.8%</td>\n",
       "    </tr>\n",
       "    <tr>\n",
       "      <th>MS</th>\n",
       "      <td>1435</td>\n",
       "      <td>1539</td>\n",
       "      <td>7.2%</td>\n",
       "    </tr>\n",
       "    <tr>\n",
       "      <th>RN</th>\n",
       "      <td>1437</td>\n",
       "      <td>1333</td>\n",
       "      <td>-7.2%</td>\n",
       "    </tr>\n",
       "    <tr>\n",
       "      <th>RO</th>\n",
       "      <td>1533</td>\n",
       "      <td>1485</td>\n",
       "      <td>-3.1%</td>\n",
       "    </tr>\n",
       "    <tr>\n",
       "      <th>PB</th>\n",
       "      <td>1564</td>\n",
       "      <td>1401</td>\n",
       "      <td>-10.4%</td>\n",
       "    </tr>\n",
       "    <tr>\n",
       "      <th>CE</th>\n",
       "      <td>1694</td>\n",
       "      <td>1569</td>\n",
       "      <td>-7.4%</td>\n",
       "    </tr>\n",
       "    <tr>\n",
       "      <th>MT</th>\n",
       "      <td>2137</td>\n",
       "      <td>2189</td>\n",
       "      <td>2.4%</td>\n",
       "    </tr>\n",
       "    <tr>\n",
       "      <th>PE</th>\n",
       "      <td>2736</td>\n",
       "      <td>2557</td>\n",
       "      <td>-6.5%</td>\n",
       "    </tr>\n",
       "    <tr>\n",
       "      <th>ES</th>\n",
       "      <td>2842</td>\n",
       "      <td>2530</td>\n",
       "      <td>-11.0%</td>\n",
       "    </tr>\n",
       "    <tr>\n",
       "      <th>GO</th>\n",
       "      <td>3354</td>\n",
       "      <td>3226</td>\n",
       "      <td>-3.8%</td>\n",
       "    </tr>\n",
       "    <tr>\n",
       "      <th>BA</th>\n",
       "      <td>3471</td>\n",
       "      <td>3443</td>\n",
       "      <td>-0.8%</td>\n",
       "    </tr>\n",
       "    <tr>\n",
       "      <th>SP</th>\n",
       "      <td>4377</td>\n",
       "      <td>4040</td>\n",
       "      <td>-7.7%</td>\n",
       "    </tr>\n",
       "    <tr>\n",
       "      <th>RS</th>\n",
       "      <td>4595</td>\n",
       "      <td>4176</td>\n",
       "      <td>-9.1%</td>\n",
       "    </tr>\n",
       "    <tr>\n",
       "      <th>RJ</th>\n",
       "      <td>4606</td>\n",
       "      <td>4222</td>\n",
       "      <td>-8.3%</td>\n",
       "    </tr>\n",
       "    <tr>\n",
       "      <th>PR</th>\n",
       "      <td>7708</td>\n",
       "      <td>7168</td>\n",
       "      <td>-7.0%</td>\n",
       "    </tr>\n",
       "    <tr>\n",
       "      <th>SC</th>\n",
       "      <td>8428</td>\n",
       "      <td>7217</td>\n",
       "      <td>-14.4%</td>\n",
       "    </tr>\n",
       "    <tr>\n",
       "      <th>MG</th>\n",
       "      <td>8720</td>\n",
       "      <td>8363</td>\n",
       "      <td>-4.1%</td>\n",
       "    </tr>\n",
       "  </tbody>\n",
       "</table>\n",
       "</div>"
      ],
      "text/plain": [
       "    2019  2020 Resultados\n",
       "uf                       \n",
       "AM   101   137      35.6%\n",
       "AP   128   155      21.1%\n",
       "RR   237   250       5.5%\n",
       "AC   254   300      18.1%\n",
       "TO   520   595      14.4%\n",
       "SE   612   574      -6.2%\n",
       "AL   629   628      -0.2%\n",
       "PA   817   959      17.4%\n",
       "MA  1075  1151       7.1%\n",
       "DF  1090  1040      -4.6%\n",
       "PI  1346  1200     -10.8%\n",
       "MS  1435  1539       7.2%\n",
       "RN  1437  1333      -7.2%\n",
       "RO  1533  1485      -3.1%\n",
       "PB  1564  1401     -10.4%\n",
       "CE  1694  1569      -7.4%\n",
       "MT  2137  2189       2.4%\n",
       "PE  2736  2557      -6.5%\n",
       "ES  2842  2530     -11.0%\n",
       "GO  3354  3226      -3.8%\n",
       "BA  3471  3443      -0.8%\n",
       "SP  4377  4040      -7.7%\n",
       "RS  4595  4176      -9.1%\n",
       "RJ  4606  4222      -8.3%\n",
       "PR  7708  7168      -7.0%\n",
       "SC  8428  7217     -14.4%\n",
       "MG  8720  8363      -4.1%"
      ]
     },
     "execution_count": 35,
     "metadata": {},
     "output_type": "execute_result"
    }
   ],
   "source": [
    "acidentestotal.columns=['2019','2020','Resultados']\n",
    "acidentestotal"
   ]
  },
  {
   "cell_type": "markdown",
   "id": "alike-house",
   "metadata": {},
   "source": [
    "## Conclusão: concluimos então que houve uma diminuição de acidentes em alguns estados, 18 estados tiveram o número de acidentes diminuídos por causa da pandemia, enquanto apenas 9 tiveram os seus aumentados ,em total, podemos concluir que do ano de 2019 para o de 2020, houve sim uma diminuição de casos."
   ]
  },
  {
   "cell_type": "code",
   "execution_count": null,
   "id": "acoustic-niger",
   "metadata": {},
   "outputs": [],
   "source": []
  }
 ],
 "metadata": {
  "kernelspec": {
   "display_name": "Python 3",
   "language": "python",
   "name": "python3"
  },
  "language_info": {
   "codemirror_mode": {
    "name": "ipython",
    "version": 3
   },
   "file_extension": ".py",
   "mimetype": "text/x-python",
   "name": "python",
   "nbconvert_exporter": "python",
   "pygments_lexer": "ipython3",
   "version": "3.8.5"
  }
 },
 "nbformat": 4,
 "nbformat_minor": 5
}
