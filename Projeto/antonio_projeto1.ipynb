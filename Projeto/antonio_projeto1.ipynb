{
 "cells": [
  {
   "cell_type": "markdown",
   "id": "innocent-puppy",
   "metadata": {},
   "source": [
    "# 1° Tarefa"
   ]
  },
  {
   "cell_type": "code",
   "execution_count": 73,
   "id": "swedish-danish",
   "metadata": {},
   "outputs": [],
   "source": [
    "import pandas as pd\n",
    "import numpy as np\n",
    "data2020 = pd.read_csv('datatran2020.csv', sep=';', encoding = 'latin_1')\n",
    "data2019 = pd.read_csv('datatran2019.csv', sep=';', encoding = 'latin_1') "
   ]
  },
  {
   "cell_type": "markdown",
   "id": "broadband-mistake",
   "metadata": {},
   "source": [
    "# 2ª Tarefa\n",
    "\n",
    "### Explore os conjuntos de dados, respondendo as questões:\n",
    "\n",
    "### (a) quantos acidentes ocorreram em cada ano?"
   ]
  },
  {
   "cell_type": "code",
   "execution_count": 70,
   "id": "generous-crest",
   "metadata": {},
   "outputs": [
    {
     "name": "stdout",
     "output_type": "stream",
     "text": [
      " Total de acidentes em 2019: 67446\n",
      " Total de acidentes em 2020: 63447\n"
     ]
    }
   ],
   "source": [
    "print(f' Total de acidentes em 2019: {len(data2019.index)}')\n",
    "print(f' Total de acidentes em 2020: {len(data2020.index)}')"
   ]
  },
  {
   "cell_type": "markdown",
   "id": "silent-integration",
   "metadata": {},
   "source": [
    "### (b) quantas variáveis cada conjunto de dados registra?\n"
   ]
  },
  {
   "cell_type": "code",
   "execution_count": 71,
   "id": "surgical-jacob",
   "metadata": {},
   "outputs": [
    {
     "name": "stdout",
     "output_type": "stream",
     "text": [
      "Total de variáveis por conjunto: 30\n"
     ]
    }
   ],
   "source": [
    "print(f'Total de variáveis por conjunto: {len(data2020.columns)}')"
   ]
  },
  {
   "cell_type": "markdown",
   "id": "statutory-string",
   "metadata": {},
   "source": [
    "### (c) quais as cinco cidades brasileiras onde mais ocorreram acidentes em rodovias federais?"
   ]
  },
  {
   "cell_type": "code",
   "execution_count": null,
   "id": "loving-application",
   "metadata": {},
   "outputs": [],
   "source": []
  },
  {
   "cell_type": "markdown",
   "id": "invalid-objective",
   "metadata": {},
   "source": [
    "### (d) quantos acidentes com feridos graves aconteceram na Paraíba em 2019?"
   ]
  },
  {
   "cell_type": "code",
   "execution_count": null,
   "id": "changed-roads",
   "metadata": {},
   "outputs": [],
   "source": []
  },
  {
   "cell_type": "markdown",
   "id": "saving-antenna",
   "metadata": {},
   "source": [
    "# 3ª Tarefa\n",
    "\n",
    "### Para cada indicação abaixo, construa um novo dataframe, salvando-o com a terminação .csv.\n",
    "\n",
    "### (a) ranking de acidentes por estado para ambos os anos (um só arquivo combinando a informação dos dois anos);"
   ]
  },
  {
   "cell_type": "code",
   "execution_count": null,
   "id": "manufactured-algorithm",
   "metadata": {},
   "outputs": [],
   "source": []
  },
  {
   "cell_type": "markdown",
   "id": "threaded-andrew",
   "metadata": {},
   "source": [
    "### (b) acidentes por dia da semana para ambos os anos (um só arquivo combinando a informação dos dois anos).\n"
   ]
  },
  {
   "cell_type": "code",
   "execution_count": null,
   "id": "competent-trading",
   "metadata": {},
   "outputs": [],
   "source": []
  },
  {
   "cell_type": "markdown",
   "id": "rubber-concentrate",
   "metadata": {},
   "source": [
    "# 4ª Tarefa\n",
    "\n",
    "### Com relação a ocorrência dos acidentes, responda:\n",
    "\n",
    "### (a) qual a causa mais frequente e a mais rara de acidentes registrados nos dois anos?"
   ]
  },
  {
   "cell_type": "code",
   "execution_count": null,
   "id": "metropolitan-momentum",
   "metadata": {},
   "outputs": [],
   "source": []
  },
  {
   "cell_type": "markdown",
   "id": "specialized-switch",
   "metadata": {},
   "source": [
    "### (b) qual a proporção de pessoas ilesas e de feridos graves por mês em cada um dos anos considerados? (proporção = numero de ilesos ou feridos graves/ número total de pessoas envolvidas no acidente);\n"
   ]
  },
  {
   "cell_type": "code",
   "execution_count": null,
   "id": "approximate-briefing",
   "metadata": {},
   "outputs": [],
   "source": []
  },
  {
   "cell_type": "markdown",
   "id": "whole-rally",
   "metadata": {},
   "source": [
    "### (c) mostre, reorganizando o conjunto de dados, se a pandemia conseguiu diminuir ou não a incidência de acidentes nas rodovias federais."
   ]
  },
  {
   "cell_type": "code",
   "execution_count": null,
   "id": "expanded-conservation",
   "metadata": {},
   "outputs": [],
   "source": []
  }
 ],
 "metadata": {
  "kernelspec": {
   "display_name": "Python 3",
   "language": "python",
   "name": "python3"
  },
  "language_info": {
   "codemirror_mode": {
    "name": "ipython",
    "version": 3
   },
   "file_extension": ".py",
   "mimetype": "text/x-python",
   "name": "python",
   "nbconvert_exporter": "python",
   "pygments_lexer": "ipython3",
   "version": "3.8.5"
  }
 },
 "nbformat": 4,
 "nbformat_minor": 5
}
